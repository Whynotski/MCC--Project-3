{
 "cells": [
  {
   "cell_type": "markdown",
   "metadata": {},
   "source": [
    "# Project 3 -Thursday March 21, 2019\n",
    "\n",
    "Now that you know your data a lot better and have an idea of what features (columns) may be correlated towards predicting the price of a home, build a linear regression model using the SciKit-Learn library to test those features. ] What kind of results did you get? Try refining your data to see how that affects your model.\n",
    "\n",
    "Then build a logistic regression model and a decision tree model to try to predict the ward or quadrant (your choice) hat a house in DC would be in based on certain features. Compare the two types of models. Which one do you think is \"best\" at predicting the target variable?\n",
    "\n"
   ]
  },
  {
   "cell_type": "code",
   "execution_count": 44,
   "metadata": {
    "collapsed": true
   },
   "outputs": [],
   "source": [
    "import pandas as pd\n",
    "import numpy as np\n",
    "import matplotlib.pyplot as plt\n",
    "import seaborn as sns\n",
    "\n",
    "%matplotlib inline\n",
    "\n",
    "#from sklearn import tree\n",
    "#from sklearn.model_selection import train_test_split\n",
    "#from sklearn.metrics import confusion_matrix\n",
    "#from sklearn.metrics import accuracy_score\n",
    "import sklearn #library for predictive modeling\n"
   ]
  },
  {
   "cell_type": "code",
   "execution_count": null,
   "metadata": {
    "collapsed": true
   },
   "outputs": [],
   "source": []
  },
  {
   "cell_type": "code",
   "execution_count": 45,
   "metadata": {
    "scrolled": true
   },
   "outputs": [
    {
     "name": "stderr",
     "output_type": "stream",
     "text": [
      "C:\\ProgramData\\Anaconda3\\lib\\site-packages\\IPython\\core\\interactiveshell.py:2698: DtypeWarning: Columns (18,19,20,21,22,23,24,33,34,35,37,43,45) have mixed types. Specify dtype option on import or set low_memory=False.\n",
      "  interactivity=interactivity, compiler=compiler, result=result)\n"
     ]
    }
   ],
   "source": [
    "filename = \"datasets/DC_Properties.csv\"\n",
    "df = pd.read_csv(filename)"
   ]
  },
  {
   "cell_type": "code",
   "execution_count": 46,
   "metadata": {
    "collapsed": true
   },
   "outputs": [],
   "source": [
    "# find missing data\n",
    "df_missing = df.copy()\n",
    "missing = df_missing.isnull().sum()"
   ]
  },
  {
   "cell_type": "code",
   "execution_count": 47,
   "metadata": {
    "collapsed": true
   },
   "outputs": [],
   "source": [
    "# restrict our dataset to the following data columns: BATHRM, HEAT, AC, BEDRMN, PRICE, FULLADDRESS, WARD, QUADRANT\n",
    "small_df = pd.DataFrame(data = df, columns=['BATHRM', 'HEAT', 'AC', 'BEDRM', 'PRICE', 'FULLADDRESS', 'WARD', 'QUADRANT'])\n",
    "# small_df.head()"
   ]
  },
  {
   "cell_type": "code",
   "execution_count": 48,
   "metadata": {
    "collapsed": true
   },
   "outputs": [],
   "source": [
    "# remove all rows with NaN in the price column.\n",
    "no_missing_df = small_df.copy().dropna()\n",
    "# no_missing_df.shape"
   ]
  },
  {
   "cell_type": "code",
   "execution_count": 49,
   "metadata": {
    "collapsed": true
   },
   "outputs": [],
   "source": [
    "# by counting all the not null entries AND calling shape on our dataset,\n",
    "# we can confirm that there are no blanks anywhere in this current dataset\n",
    "# no_missing_df.notnull().count()\n",
    "# no_missing_df.dtypes"
   ]
  },
  {
   "cell_type": "code",
   "execution_count": 50,
   "metadata": {
    "collapsed": true
   },
   "outputs": [],
   "source": [
    "# Just curious to see, what are the unique possible values for AC?\n",
    "no_missing_df['AC'].unique() # we find that there are properties with an AC value of 0, which doesn't really make sense to us...\n",
    "no_missing_df.loc[no_missing_df['AC'] == '0'].count() # and we know that there are only 16 such entries, ...\n",
    "no_missing_df = no_missing_df.drop(no_missing_df[no_missing_df['AC'] == '0'].index) # so we feel unworried about removing these entries to further tighten up our dataset\n",
    "# take-away here is that we MUST NOT FORGET when dropping rows/entries to use \".index\" in the drop parameters\n",
    "# let's confirm that the result of the above line gives up only 2 unique AC values now\n",
    "# no_missing_df['AC'].unique()"
   ]
  },
  {
   "cell_type": "code",
   "execution_count": 51,
   "metadata": {
    "collapsed": true
   },
   "outputs": [],
   "source": [
    "# since Avi wants to live in this type of place (cheap first, good neighborhood 2nd, at least 2 bedroom, 1 bath, under $1500/month.)\n",
    "# let's first bin the price ranges of places to live...\n",
    "# before we can effectively bin, we should first describe the dataset to get an idea of the general data distribution\n"
   ]
  },
  {
   "cell_type": "code",
   "execution_count": 52,
   "metadata": {
    "collapsed": true
   },
   "outputs": [],
   "source": [
    "# outstanding questions\n",
    "# How do we display dates as dates in Jupyter Notebooks?\n",
    "# How can we filter (condense) the dataset to include sale dates within only the last X years, Y months, Z days, etc.?\n",
    "# How can we render/display prices in a more human readable output such as $10B, or $200K, etc.?\n",
    "# As it appears that there was a sale for $1 which seems dubious/suspect, how can we select & show the cheapest properities by sale price? (we are guessing sort & head)\n",
    "# no_missing_df ['PRICE'].min()"
   ]
  },
  {
   "cell_type": "code",
   "execution_count": 53,
   "metadata": {
    "collapsed": true
   },
   "outputs": [],
   "source": [
    "# no_missing_df.tail(15)"
   ]
  },
  {
   "cell_type": "code",
   "execution_count": 54,
   "metadata": {
    "scrolled": false
   },
   "outputs": [
    {
     "data": {
      "text/plain": [
       "(57448, 8)"
      ]
     },
     "execution_count": 54,
     "metadata": {},
     "output_type": "execute_result"
    }
   ],
   "source": [
    "#no_missing_df.head(15)\n",
    "no_missing_df.shape"
   ]
  },
  {
   "cell_type": "code",
   "execution_count": 55,
   "metadata": {},
   "outputs": [],
   "source": [
    "# remove outlier data using 1 of 2 methods (std or interquartile)\n",
    "mean = no_missing_df['PRICE'].mean()\n",
    "std = no_missing_df['PRICE'].std()\n",
    "toprange = mean + std * 1.96\n",
    "botrange = mean - std * 1.96\n",
    "\n",
    "df2 = no_missing_df.copy() #to not mess up the original df\n",
    "df2 = df2.drop(df2[df2['PRICE'] > toprange].index)\n",
    "df2 = df2.drop(df2[df2['PRICE'] < botrange].index)\n",
    "\n",
    "# df2.shape\n",
    "# df2.dtypes\n",
    "# df2.head()\n",
    "# print(df2['HEAT'].unique())"
   ]
  },
  {
   "cell_type": "code",
   "execution_count": 56,
   "metadata": {},
   "outputs": [
    {
     "data": {
      "text/html": [
       "<div>\n",
       "<style>\n",
       "    .dataframe thead tr:only-child th {\n",
       "        text-align: right;\n",
       "    }\n",
       "\n",
       "    .dataframe thead th {\n",
       "        text-align: left;\n",
       "    }\n",
       "\n",
       "    .dataframe tbody tr th {\n",
       "        vertical-align: top;\n",
       "    }\n",
       "</style>\n",
       "<table border=\"1\" class=\"dataframe\">\n",
       "  <thead>\n",
       "    <tr style=\"text-align: right;\">\n",
       "      <th></th>\n",
       "      <th>BATHRM</th>\n",
       "      <th>BEDRM</th>\n",
       "      <th>PRICE</th>\n",
       "      <th>AC_BINARY</th>\n",
       "      <th>REGION</th>\n",
       "      <th>NS</th>\n",
       "      <th>EW</th>\n",
       "    </tr>\n",
       "  </thead>\n",
       "  <tbody>\n",
       "    <tr>\n",
       "      <th>BATHRM</th>\n",
       "      <td>1.000000</td>\n",
       "      <td>0.598232</td>\n",
       "      <td>0.465210</td>\n",
       "      <td>0.232147</td>\n",
       "      <td>0.211749</td>\n",
       "      <td>-0.111038</td>\n",
       "      <td>0.220261</td>\n",
       "    </tr>\n",
       "    <tr>\n",
       "      <th>BEDRM</th>\n",
       "      <td>0.598232</td>\n",
       "      <td>1.000000</td>\n",
       "      <td>0.314596</td>\n",
       "      <td>0.049857</td>\n",
       "      <td>0.212501</td>\n",
       "      <td>-0.129511</td>\n",
       "      <td>0.219689</td>\n",
       "    </tr>\n",
       "    <tr>\n",
       "      <th>PRICE</th>\n",
       "      <td>0.465210</td>\n",
       "      <td>0.314596</td>\n",
       "      <td>1.000000</td>\n",
       "      <td>0.300893</td>\n",
       "      <td>0.372961</td>\n",
       "      <td>-0.230400</td>\n",
       "      <td>0.388273</td>\n",
       "    </tr>\n",
       "    <tr>\n",
       "      <th>AC_BINARY</th>\n",
       "      <td>0.232147</td>\n",
       "      <td>0.049857</td>\n",
       "      <td>0.300893</td>\n",
       "      <td>1.000000</td>\n",
       "      <td>0.013467</td>\n",
       "      <td>0.023452</td>\n",
       "      <td>0.007372</td>\n",
       "    </tr>\n",
       "    <tr>\n",
       "      <th>REGION</th>\n",
       "      <td>0.211749</td>\n",
       "      <td>0.212501</td>\n",
       "      <td>0.372961</td>\n",
       "      <td>0.013467</td>\n",
       "      <td>1.000000</td>\n",
       "      <td>-0.223540</td>\n",
       "      <td>0.960707</td>\n",
       "    </tr>\n",
       "    <tr>\n",
       "      <th>NS</th>\n",
       "      <td>-0.111038</td>\n",
       "      <td>-0.129511</td>\n",
       "      <td>-0.230400</td>\n",
       "      <td>0.023452</td>\n",
       "      <td>-0.223540</td>\n",
       "      <td>1.000000</td>\n",
       "      <td>-0.444037</td>\n",
       "    </tr>\n",
       "    <tr>\n",
       "      <th>EW</th>\n",
       "      <td>0.220261</td>\n",
       "      <td>0.219689</td>\n",
       "      <td>0.388273</td>\n",
       "      <td>0.007372</td>\n",
       "      <td>0.960707</td>\n",
       "      <td>-0.444037</td>\n",
       "      <td>1.000000</td>\n",
       "    </tr>\n",
       "  </tbody>\n",
       "</table>\n",
       "</div>"
      ],
      "text/plain": [
       "             BATHRM     BEDRM     PRICE  AC_BINARY    REGION        NS  \\\n",
       "BATHRM     1.000000  0.598232  0.465210   0.232147  0.211749 -0.111038   \n",
       "BEDRM      0.598232  1.000000  0.314596   0.049857  0.212501 -0.129511   \n",
       "PRICE      0.465210  0.314596  1.000000   0.300893  0.372961 -0.230400   \n",
       "AC_BINARY  0.232147  0.049857  0.300893   1.000000  0.013467  0.023452   \n",
       "REGION     0.211749  0.212501  0.372961   0.013467  1.000000 -0.223540   \n",
       "NS        -0.111038 -0.129511 -0.230400   0.023452 -0.223540  1.000000   \n",
       "EW         0.220261  0.219689  0.388273   0.007372  0.960707 -0.444037   \n",
       "\n",
       "                 EW  \n",
       "BATHRM     0.220261  \n",
       "BEDRM      0.219689  \n",
       "PRICE      0.388273  \n",
       "AC_BINARY  0.007372  \n",
       "REGION     0.960707  \n",
       "NS        -0.444037  \n",
       "EW         1.000000  "
      ]
     },
     "execution_count": 56,
     "metadata": {},
     "output_type": "execute_result"
    }
   ],
   "source": [
    "# we want to be able to associate property data w/ locations,\n",
    "# and by using lat/long we could more concisely/compactly hold such info\n",
    "\n",
    "#create column based on binary conditional\n",
    "df2['AC_BINARY'] = np.where(df2['AC']==\"Y\", 1, 0)\n",
    "# df2.head()\n",
    "\n",
    "# we've decided to ignore HEAT and include EAST, WEST, NORTH & SOUTH\n",
    "# our intention is use the cordinal directions as is, but, just for now\n",
    "# we will use the 4 diagonal directions as they are already included\n",
    "# NE, SE, SW, NW (as the clock turns, clockwise)\n",
    "\n",
    "def quandrant_to_numeric(q):\n",
    "    if q=='NE':\n",
    "        return 1\n",
    "    elif q=='SE':\n",
    "        return 2\n",
    "    elif q=='SW':\n",
    "        return 3\n",
    "    elif q=='NW':\n",
    "        return 4\n",
    "    else:\n",
    "        return -1\n",
    "    \n",
    "# NORTH will be returned as 0, SOUTH will be returned as 1\n",
    "def ns_to_binary(q):\n",
    "    if q=='NE' or q=='NW':\n",
    "        return 0\n",
    "    elif q=='SE' or q=='SW':\n",
    "        return 1\n",
    "    else:\n",
    "        return -1\n",
    "    \n",
    "# EAST will be returned as 0, WEST will be returned as 1\n",
    "def ew_to_binary(q):\n",
    "    if q=='NE' or q=='SE':\n",
    "        return 0\n",
    "    elif q=='NW' or q=='SW':\n",
    "        return 1\n",
    "    else:\n",
    "        return -1\n",
    "    \n",
    "df2['REGION'] = df2['QUADRANT'].apply(quandrant_to_numeric)\n",
    "df2['NS'] = df2['QUADRANT'].apply(ns_to_binary)\n",
    "df2['EW'] = df2['QUADRANT'].apply(ew_to_binary)\n",
    "# print(df2['REGION'].unique())\n",
    "# print(df2['NS'].unique())\n",
    "# print(df2['EW'].unique())\n",
    "# df2.head()\n",
    "# df2.tail()\n",
    "\n",
    "df2.corr()"
   ]
  },
  {
   "cell_type": "code",
   "execution_count": 57,
   "metadata": {
    "scrolled": true
   },
   "outputs": [
    {
     "data": {
      "text/plain": [
       "<seaborn.axisgrid.FacetGrid at 0x190374688d0>"
      ]
     },
     "execution_count": 57,
     "metadata": {},
     "output_type": "execute_result"
    },
    {
     "data": {
      "image/png": "[encoded data removed]",
      "text/plain": [
       "<matplotlib.figure.Figure at 0x19037468cc0>"
      ]
     },
     "metadata": {},
     "output_type": "display_data"
    }
   ],
   "source": [
    "#make a scatterplot\n",
    "sns.lmplot(x='BATHRM', y='BEDRM', data=df2)\n",
    "# question: why are some data points rendered as circles, and others as squares?"
   ]
  },
  {
   "cell_type": "code",
   "execution_count": 58,
   "metadata": {},
   "outputs": [
    {
     "data": {
      "text/plain": [
       "<matplotlib.axes._subplots.AxesSubplot at 0x190374689e8>"
      ]
     },
     "execution_count": 58,
     "metadata": {},
     "output_type": "execute_result"
    },
    {
     "data": {
      "image/png": "[encoded data removed]",
      "text/plain": [
       "<matplotlib.figure.Figure at 0x19036c693c8>"
      ]
     },
     "metadata": {},
     "output_type": "display_data"
    }
   ],
   "source": [
    "copydf2 = df2.copy()\n",
    "copydf2 = copydf2.drop(['PRICE'], axis=1)\n",
    "sns.boxplot(data=copydf2)"
   ]
  },
  {
   "cell_type": "code",
   "execution_count": 59,
   "metadata": {},
   "outputs": [
    {
     "data": {
      "text/plain": [
       "<matplotlib.axes._subplots.AxesSubplot at 0x19040e1c898>"
      ]
     },
     "execution_count": 59,
     "metadata": {},
     "output_type": "execute_result"
    },
    {
     "data": {
      "image/png": "[encoded data removed]",
      "text/plain": [
       "<matplotlib.figure.Figure at 0x190302b7fd0>"
      ]
     },
     "metadata": {},
     "output_type": "display_data"
    }
   ],
   "source": [
    "copydf3 = copydf2.copy()\n",
    "copydf3 = copydf3.drop(['BATHRM','BEDRM','AC_BINARY'], axis=1)\n",
    "sns.boxplot(data=copydf3)"
   ]
  },
  {
   "cell_type": "code",
   "execution_count": 60,
   "metadata": {},
   "outputs": [
    {
     "name": "stdout",
     "output_type": "stream",
     "text": [
      "0    43439\n",
      "1    12317\n",
      "Name: NS, dtype: int64\n"
     ]
    }
   ],
   "source": [
    "print(pd.value_counts(copydf3['NS']))"
   ]
  },
  {
   "cell_type": "code",
   "execution_count": 61,
   "metadata": {},
   "outputs": [
    {
     "data": {
      "text/plain": [
       "<matplotlib.axes._subplots.AxesSubplot at 0x1902f4000f0>"
      ]
     },
     "execution_count": 61,
     "metadata": {},
     "output_type": "execute_result"
    },
    {
     "data": {
      "image/png": "[encoded data removed]",
      "text/plain": [
       "<matplotlib.figure.Figure at 0x1902f19df98>"
      ]
     },
     "metadata": {},
     "output_type": "display_data"
    }
   ],
   "source": [
    "sns.violinplot(x='REGION', y='PRICE', data=df2)"
   ]
  },
  {
   "cell_type": "markdown",
   "metadata": {},
   "source": [
    "# observations\n",
    "\n",
    "It seems that in region 4 (NW) there is a more narrow (double-check that this is the correct way of saying) distribution of of prices where there are substantially expensive and inexpensive properties along the price range. Regions 1, 2, and 3 all are bottom heavy in distribution (they tend to be lower in price).\n"
   ]
  },
  {
   "cell_type": "code",
   "execution_count": 62,
   "metadata": {
    "collapsed": true
   },
   "outputs": [],
   "source": [
    "#use this library to build a statistical test for linear regression\n",
    "import statsmodels.formula.api as smf"
   ]
  },
  {
   "cell_type": "code",
   "execution_count": 63,
   "metadata": {},
   "outputs": [
    {
     "data": {
      "text/html": [
       "<table class=\"simpletable\">\n",
       "<caption>OLS Regression Results</caption>\n",
       "<tr>\n",
       "  <th>Dep. Variable:</th>          <td>PRICE</td>      <th>  R-squared:         </th>  <td>   0.762</td>  \n",
       "</tr>\n",
       "<tr>\n",
       "  <th>Model:</th>                   <td>OLS</td>       <th>  Adj. R-squared:    </th>  <td>   0.762</td>  \n",
       "</tr>\n",
       "<tr>\n",
       "  <th>Method:</th>             <td>Least Squares</td>  <th>  F-statistic:       </th>  <td>5.940e+04</td> \n",
       "</tr>\n",
       "<tr>\n",
       "  <th>Date:</th>             <td>Thu, 21 Mar 2019</td> <th>  Prob (F-statistic):</th>   <td>  0.00</td>   \n",
       "</tr>\n",
       "<tr>\n",
       "  <th>Time:</th>                 <td>16:52:07</td>     <th>  Log-Likelihood:    </th> <td>-7.8291e+05</td>\n",
       "</tr>\n",
       "<tr>\n",
       "  <th>No. Observations:</th>      <td> 55756</td>      <th>  AIC:               </th>  <td>1.566e+06</td> \n",
       "</tr>\n",
       "<tr>\n",
       "  <th>Df Residuals:</th>          <td> 55753</td>      <th>  BIC:               </th>  <td>1.566e+06</td> \n",
       "</tr>\n",
       "<tr>\n",
       "  <th>Df Model:</th>              <td>     3</td>      <th>                     </th>      <td> </td>     \n",
       "</tr>\n",
       "<tr>\n",
       "  <th>Covariance Type:</th>      <td>nonrobust</td>    <th>                     </th>      <td> </td>     \n",
       "</tr>\n",
       "</table>\n",
       "<table class=\"simpletable\">\n",
       "<tr>\n",
       "      <td></td>         <th>coef</th>     <th>std err</th>      <th>t</th>      <th>P>|t|</th>  <th>[0.025</th>    <th>0.975]</th>  \n",
       "</tr>\n",
       "<tr>\n",
       "  <th>BATHRM</th>    <td> 1.306e+05</td> <td> 1683.774</td> <td>   77.588</td> <td> 0.000</td> <td> 1.27e+05</td> <td> 1.34e+05</td>\n",
       "</tr>\n",
       "<tr>\n",
       "  <th>BEDRM</th>     <td> 3.199e+04</td> <td> 1107.269</td> <td>   28.888</td> <td> 0.000</td> <td> 2.98e+04</td> <td> 3.42e+04</td>\n",
       "</tr>\n",
       "<tr>\n",
       "  <th>AC_BINARY</th> <td> 1.708e+05</td> <td> 2732.486</td> <td>   62.517</td> <td> 0.000</td> <td> 1.65e+05</td> <td> 1.76e+05</td>\n",
       "</tr>\n",
       "</table>\n",
       "<table class=\"simpletable\">\n",
       "<tr>\n",
       "  <th>Omnibus:</th>       <td>3435.496</td> <th>  Durbin-Watson:     </th> <td>   1.174</td>\n",
       "</tr>\n",
       "<tr>\n",
       "  <th>Prob(Omnibus):</th>  <td> 0.000</td>  <th>  Jarque-Bera (JB):  </th> <td>4188.508</td>\n",
       "</tr>\n",
       "<tr>\n",
       "  <th>Skew:</th>           <td> 0.619</td>  <th>  Prob(JB):          </th> <td>    0.00</td>\n",
       "</tr>\n",
       "<tr>\n",
       "  <th>Kurtosis:</th>       <td> 3.520</td>  <th>  Cond. No.          </th> <td>    9.24</td>\n",
       "</tr>\n",
       "</table>"
      ],
      "text/plain": [
       "<class 'statsmodels.iolib.summary.Summary'>\n",
       "\"\"\"\n",
       "                            OLS Regression Results                            \n",
       "==============================================================================\n",
       "Dep. Variable:                  PRICE   R-squared:                       0.762\n",
       "Model:                            OLS   Adj. R-squared:                  0.762\n",
       "Method:                 Least Squares   F-statistic:                 5.940e+04\n",
       "Date:                Thu, 21 Mar 2019   Prob (F-statistic):               0.00\n",
       "Time:                        16:52:07   Log-Likelihood:            -7.8291e+05\n",
       "No. Observations:               55756   AIC:                         1.566e+06\n",
       "Df Residuals:                   55753   BIC:                         1.566e+06\n",
       "Df Model:                           3                                         \n",
       "Covariance Type:            nonrobust                                         \n",
       "==============================================================================\n",
       "                 coef    std err          t      P>|t|      [0.025      0.975]\n",
       "------------------------------------------------------------------------------\n",
       "BATHRM      1.306e+05   1683.774     77.588      0.000    1.27e+05    1.34e+05\n",
       "BEDRM       3.199e+04   1107.269     28.888      0.000    2.98e+04    3.42e+04\n",
       "AC_BINARY   1.708e+05   2732.486     62.517      0.000    1.65e+05    1.76e+05\n",
       "==============================================================================\n",
       "Omnibus:                     3435.496   Durbin-Watson:                   1.174\n",
       "Prob(Omnibus):                  0.000   Jarque-Bera (JB):             4188.508\n",
       "Skew:                           0.619   Prob(JB):                         0.00\n",
       "Kurtosis:                       3.520   Cond. No.                         9.24\n",
       "==============================================================================\n",
       "\n",
       "Warnings:\n",
       "[1] Standard Errors assume that the covariance matrix of the errors is correctly specified.\n",
       "\"\"\""
      ]
     },
     "execution_count": 63,
     "metadata": {},
     "output_type": "execute_result"
    }
   ],
   "source": [
    "# we want to predict the price of a property by a range of factors, and also see, which factors seem to be most strongly correlated with price variation.\n",
    "result = smf.ols(formula='PRICE ~ BATHRM + BEDRM + AC_BINARY - 1', data=df2).fit()\n",
    "result.summary()"
   ]
  },
  {
   "cell_type": "code",
   "execution_count": 64,
   "metadata": {
    "collapsed": true
   },
   "outputs": [],
   "source": [
    "# Based on Corr output - We know the dependent variable is (y) PRICE and the features that will be used in (x)\n",
    "from sklearn.linear_model import LinearRegression"
   ]
  },
  {
   "cell_type": "code",
   "execution_count": 65,
   "metadata": {
    "scrolled": true
   },
   "outputs": [],
   "source": [
    "#assigning dependent variable to column named \"Price\"\n",
    "y=df2['PRICE']\n",
    "\n",
    "#make dataframe that only contains predictive features\n",
    "X = df2.drop(['PRICE','HEAT','AC','FULLADDRESS','WARD','QUADRANT'], axis = 1)\n",
    "#X.dtypes\n",
    "#assign linear regression function to a variable\n",
    "lm = LinearRegression()\n",
    "#lm"
   ]
  },
  {
   "cell_type": "code",
   "execution_count": 66,
   "metadata": {},
   "outputs": [
    {
     "data": {
      "text/plain": [
       "LinearRegression(copy_X=True, fit_intercept=True, n_jobs=1, normalize=False)"
      ]
     },
     "execution_count": 66,
     "metadata": {},
     "output_type": "execute_result"
    }
   ],
   "source": [
    "lm.fit(X, df2['PRICE'])"
   ]
  },
  {
   "cell_type": "code",
   "execution_count": 67,
   "metadata": {},
   "outputs": [
    {
     "name": "stdout",
     "output_type": "stream",
     "text": [
      "Estimated intercept coefficient: -126876.140246\n",
      "Number of coefficients: 6\n"
     ]
    },
    {
     "data": {
      "text/html": [
       "<div>\n",
       "<style>\n",
       "    .dataframe thead tr:only-child th {\n",
       "        text-align: right;\n",
       "    }\n",
       "\n",
       "    .dataframe thead th {\n",
       "        text-align: left;\n",
       "    }\n",
       "\n",
       "    .dataframe tbody tr th {\n",
       "        vertical-align: top;\n",
       "    }\n",
       "</style>\n",
       "<table border=\"1\" class=\"dataframe\">\n",
       "  <thead>\n",
       "    <tr style=\"text-align: right;\">\n",
       "      <th></th>\n",
       "      <th>features</th>\n",
       "      <th>estimatedCoefficients</th>\n",
       "    </tr>\n",
       "  </thead>\n",
       "  <tbody>\n",
       "    <tr>\n",
       "      <th>0</th>\n",
       "      <td>BATHRM</td>\n",
       "      <td>114860.015132</td>\n",
       "    </tr>\n",
       "    <tr>\n",
       "      <th>1</th>\n",
       "      <td>BEDRM</td>\n",
       "      <td>12178.374253</td>\n",
       "    </tr>\n",
       "    <tr>\n",
       "      <th>2</th>\n",
       "      <td>AC_BINARY</td>\n",
       "      <td>176749.943061</td>\n",
       "    </tr>\n",
       "    <tr>\n",
       "      <th>3</th>\n",
       "      <td>REGION</td>\n",
       "      <td>135629.144978</td>\n",
       "    </tr>\n",
       "    <tr>\n",
       "      <th>4</th>\n",
       "      <td>NS</td>\n",
       "      <td>-172770.184897</td>\n",
       "    </tr>\n",
       "    <tr>\n",
       "      <th>5</th>\n",
       "      <td>EW</td>\n",
       "      <td>-195639.632434</td>\n",
       "    </tr>\n",
       "  </tbody>\n",
       "</table>\n",
       "</div>"
      ],
      "text/plain": [
       "    features  estimatedCoefficients\n",
       "0     BATHRM          114860.015132\n",
       "1      BEDRM           12178.374253\n",
       "2  AC_BINARY          176749.943061\n",
       "3     REGION          135629.144978\n",
       "4         NS         -172770.184897\n",
       "5         EW         -195639.632434"
      ]
     },
     "execution_count": 67,
     "metadata": {},
     "output_type": "execute_result"
    }
   ],
   "source": [
    "#y-intercept for the linear regression formula\n",
    "print('Estimated intercept coefficient:', lm.intercept_)\n",
    "#number of predictive features\n",
    "print('Number of coefficients:', len(lm.coef_))\n",
    "#show the slope (weight) for each predictive feature\n",
    "pd.DataFrame(list(zip(X.columns, lm.coef_)), columns = ['features', 'estimatedCoefficients'])"
   ]
  },
  {
   "cell_type": "code",
   "execution_count": 68,
   "metadata": {},
   "outputs": [
    {
     "data": {
      "text/plain": [
       "array([ 904904.30783407,  802222.66695519,  790044.29270222,\n",
       "        777865.91844926,  777865.91844926])"
      ]
     },
     "execution_count": 68,
     "metadata": {},
     "output_type": "execute_result"
    }
   ],
   "source": [
    "#show the first 5 values that the model predicted\n",
    "lm.predict(X)[0:5]"
   ]
  },
  {
   "cell_type": "code",
   "execution_count": 69,
   "metadata": {},
   "outputs": [
    {
     "data": {
      "text/plain": [
       "0.35954932451795135"
      ]
     },
     "execution_count": 69,
     "metadata": {},
     "output_type": "execute_result"
    }
   ],
   "source": [
    "\n",
    "\n",
    "#score determines how accurate the model predicted\n",
    "lm.score(X, df2['PRICE'])\n",
    "\n"
   ]
  },
  {
   "cell_type": "code",
   "execution_count": 70,
   "metadata": {},
   "outputs": [
    {
     "data": {
      "image/png": "[encoded data removed]",
      "text/plain": [
       "<matplotlib.figure.Figure at 0x1902fca14e0>"
      ]
     },
     "metadata": {},
     "output_type": "display_data"
    }
   ],
   "source": [
    "#visual comparison between the true price of a house and the price the model predicted\n",
    "plt.scatter(df2['PRICE'], lm.predict(X))\n",
    "plt.xlabel(\"Price\")\n",
    "plt.ylabel(\"Predicted Price\")\n",
    "plt.title(\"Price vs Predicted Price\")\n",
    "plt.show()"
   ]
  },
  {
   "cell_type": "code",
   "execution_count": 71,
   "metadata": {},
   "outputs": [
    {
     "name": "stdout",
     "output_type": "stream",
     "text": [
      "(37356, 6)\n",
      "(18400, 6)\n",
      "(37356,)\n",
      "(18400,)\n"
     ]
    }
   ],
   "source": [
    "#test_size default = 0.25\n",
    "#train_test_split function give back 4 variables\n",
    "#2 variables for X (the predictive features) - training and testing\n",
    "#2 variables for y (the target) - training and testing\n",
    "\n",
    "X_train, X_test, Y_train, Y_test = sklearn.model_selection.train_test_split(\n",
    "    X, df2['PRICE'], test_size=0.33, random_state = 15)\n",
    "print(X_train.shape)\n",
    "print(X_test.shape)\n",
    "print(Y_train.shape)\n",
    "print(Y_test.shape)"
   ]
  },
  {
   "cell_type": "code",
   "execution_count": 72,
   "metadata": {},
   "outputs": [
    {
     "name": "stdout",
     "output_type": "stream",
     "text": [
      "0.35867791706\n",
      "0.361221409433\n"
     ]
    }
   ],
   "source": [
    "#calculate the model using the training data\n",
    "lm.fit(X_train, Y_train)\n",
    "\n",
    "#predictions for training and test data\n",
    "pred_train = lm.predict(X_train)\n",
    "pred_test = lm.predict(X_test)\n",
    "\n",
    "#evaluate the accuracy of the model of training vs test\n",
    "print(lm.score(X_train, Y_train))\n",
    "print(lm.score(X_test, Y_test))"
   ]
  },
  {
   "cell_type": "markdown",
   "metadata": {},
   "source": [
    "# Model is working but it needs to improve. \n"
   ]
  },
  {
   "cell_type": "code",
   "execution_count": null,
   "metadata": {
    "collapsed": true
   },
   "outputs": [],
   "source": []
  }
 ],
 "metadata": {
  "kernelspec": {
   "display_name": "Python 3",
   "language": "python",
   "name": "python3"
  },
  "language_info": {
   "codemirror_mode": {
    "name": "ipython",
    "version": 3
   },
   "file_extension": ".py",
   "mimetype": "text/x-python",
   "name": "python",
   "nbconvert_exporter": "python",
   "pygments_lexer": "ipython3",
   "version": "3.6.3"
  }
 },
 "nbformat": 4,
 "nbformat_minor": 2
}
